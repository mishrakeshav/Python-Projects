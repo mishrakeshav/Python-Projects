{
 "cells": [
  {
   "cell_type": "code",
   "execution_count": 1,
   "metadata": {},
   "outputs": [],
   "source": [
    "from IPython.display import clear_output\n",
    "\n",
    "def display_board(board):\n",
    "    \n",
    "    clear_output()\n",
    "    print(\"     |     |    \")\n",
    "    print(f\"  {board[7]}  |  {board[8]}  |  {board[9]}\")\n",
    "    print(\"-----|-----|----\")\n",
    "    print(\"     |     |    \")\n",
    "    print(f\"  {board[4]}  |  {board[5]}  |  {board[6]}\")\n",
    "    print(\"-----|-----|----\")\n",
    "    print(\"     |     |    \")\n",
    "    print(f\"  {board[1]}  |  {board[2]}  |  {board[3]}\")\n",
    "    "
   ]
  },
  {
   "cell_type": "code",
   "execution_count": 2,
   "metadata": {},
   "outputs": [
    {
     "name": "stdout",
     "output_type": "stream",
     "text": [
      "     |     |    \n",
      "  X  |  O  |  X\n",
      "-----|-----|----\n",
      "     |     |    \n",
      "  O  |  X  |  O\n",
      "-----|-----|----\n",
      "     |     |    \n",
      "  X  |  O  |  X\n"
     ]
    }
   ],
   "source": [
    "test_board= [\"#\" , 'X', 'O', 'X', 'O', 'X', 'O', 'X', 'O', 'X']\n",
    "display_board(test_board)"
   ]
  },
  {
   "cell_type": "code",
   "execution_count": 3,
   "metadata": {},
   "outputs": [],
   "source": [
    "def player_input():\n",
    "    player1_marker =''\n",
    "    \n",
    "    while player1_marker != 'X' and player1_marker != 'O':\n",
    "        player1_marker = input(\"Player 1 , do you want 'X' or 'O'\").upper()\n",
    "    \n",
    "    if player1_marker == 'X':\n",
    "        player2_marker = 'O'\n",
    "    else :\n",
    "        player2_marker = 'X'\n",
    "    \n",
    "    return (player1_marker, player2_marker)\n",
    "        \n",
    "        "
   ]
  },
  {
   "cell_type": "code",
   "execution_count": 4,
   "metadata": {},
   "outputs": [
    {
     "name": "stdout",
     "output_type": "stream",
     "text": [
      "Player 1 , do you want 'X' or 'O'x\n"
     ]
    },
    {
     "data": {
      "text/plain": [
       "('X', 'O')"
      ]
     },
     "execution_count": 4,
     "metadata": {},
     "output_type": "execute_result"
    }
   ],
   "source": [
    "player_input()"
   ]
  },
  {
   "cell_type": "code",
   "execution_count": 5,
   "metadata": {},
   "outputs": [],
   "source": [
    "def place_marker(board, marker, position):\n",
    "    board[position] = marker"
   ]
  },
  {
   "cell_type": "code",
   "execution_count": 6,
   "metadata": {},
   "outputs": [
    {
     "name": "stdout",
     "output_type": "stream",
     "text": [
      "     |     |    \n",
      "  X  |  O  |  X\n",
      "-----|-----|----\n",
      "     |     |    \n",
      "  O  |  Z  |  O\n",
      "-----|-----|----\n",
      "     |     |    \n",
      "  X  |  O  |  X\n"
     ]
    }
   ],
   "source": [
    "place_marker(test_board, \"Z\", 5)\n",
    "display_board(test_board)"
   ]
  },
  {
   "cell_type": "code",
   "execution_count": 7,
   "metadata": {},
   "outputs": [],
   "source": [
    "def win_check(board, mark):\n",
    "    \n",
    "     return ( (board[7]==board[8]==board[9]== mark) or  (board[4]==board[5]==board[6]== mark) or\n",
    "           (board[1]==board[2]==board[3]== mark) or (board[1]==board[4]==board[7]== mark) or\n",
    "           (board[2]==board[5]==board[8]== mark) or (board[3]==board[6]==board[9]== mark) or \n",
    "           (board[7]==board[5]==board[3]== mark) or (board[1]==board[5]==board[9]== mark) )"
   ]
  },
  {
   "cell_type": "code",
   "execution_count": 8,
   "metadata": {},
   "outputs": [
    {
     "data": {
      "text/plain": [
       "False"
      ]
     },
     "execution_count": 8,
     "metadata": {},
     "output_type": "execute_result"
    }
   ],
   "source": [
    "win_check(test_board, 'X')"
   ]
  },
  {
   "cell_type": "code",
   "execution_count": 9,
   "metadata": {},
   "outputs": [],
   "source": [
    "import random \n",
    "\n",
    "def choose_first():\n",
    "    if random.randint(0, 1) == 0:\n",
    "        return 'Player 2'\n",
    "    else :\n",
    "        return 'Player 1'"
   ]
  },
  {
   "cell_type": "code",
   "execution_count": 10,
   "metadata": {},
   "outputs": [
    {
     "data": {
      "text/plain": [
       "'Player 1'"
      ]
     },
     "execution_count": 10,
     "metadata": {},
     "output_type": "execute_result"
    }
   ],
   "source": [
    "choose_first()"
   ]
  },
  {
   "cell_type": "code",
   "execution_count": 11,
   "metadata": {},
   "outputs": [],
   "source": [
    "def space_check(board, position):\n",
    "    return board[position] == ' '"
   ]
  },
  {
   "cell_type": "code",
   "execution_count": 12,
   "metadata": {},
   "outputs": [],
   "source": [
    "def full_board_check(board):\n",
    "    for i in range(1, 10):\n",
    "        if space_check(board, i):\n",
    "            return False\n",
    "    return True"
   ]
  },
  {
   "cell_type": "code",
   "execution_count": 13,
   "metadata": {},
   "outputs": [],
   "source": [
    "def player_choice(board):\n",
    "    position = 0\n",
    "    position_list = [1, 2, 3, 4, 5, 6, 7, 8, 9]\n",
    "    while position not in position_list or not space_check(board,position):\n",
    "        position = int(input(\"Choose your next position (1-9): \"))\n",
    "    return position"
   ]
  },
  {
   "cell_type": "code",
   "execution_count": 14,
   "metadata": {},
   "outputs": [],
   "source": [
    "def replay():\n",
    "    x = input(\"Do you want to play again? yes or no: \").lower()\n",
    "    return x[0] == 'y'"
   ]
  },
  {
   "cell_type": "markdown",
   "metadata": {},
   "source": [
    "# Guide\n",
    "\n",
    "####  You probably already know how to play Tic-Tac-Toe. It's a really simple game, right? That's what most people think. But if you really wrap your brain around it, you'll discover that Tic-Tac-Toe isn't quite as simple as you think!\n",
    "\n",
    "#### Tic-Tac -Toe (along with a lot of other games) involves looking ahead and trying to figure out what the person playing against you might do next.\n",
    "\n",
    "## RULES FOR TIC-TAC-TOE\n",
    "#### 1. The game is played on a grid that's 3 squares by 3 squares. The squares corresponds with the numpad in your keyboard.\n",
    "####      for eg: 7 corresponds with the top left square of the grid\n",
    "\n",
    "#### 2. You are X, your friend  is O. Players take turns putting their marks in empty squares.\n",
    "\n",
    "#### 3. The first player to get 3 of her marks in a row (up, down, across, or diagonally) is the winner.\n",
    "\n",
    "#### 4. When all 9 squares are full, the game is over. If no player has 3 marks in a row, the game ends in a tie.\n",
    "\n"
   ]
  },
  {
   "cell_type": "markdown",
   "metadata": {},
   "source": [
    "# lets Play!"
   ]
  },
  {
   "cell_type": "code",
   "execution_count": null,
   "metadata": {},
   "outputs": [
    {
     "name": "stdout",
     "output_type": "stream",
     "text": [
      "     |     |    \n",
      "  O  |  X  |  O\n",
      "-----|-----|----\n",
      "     |     |    \n",
      "  O  |  O  |  X\n",
      "-----|-----|----\n",
      "     |     |    \n",
      "  X  |  O  |  X\n",
      "The game is a draw!\n"
     ]
    }
   ],
   "source": [
    "print(\"Welcome to Tic Tac Toe!\")\n",
    "while True:\n",
    "    # Reset the board(The game)\n",
    "    theboard = [' ']*10\n",
    "    player1_marker, player2_marker = player_input()\n",
    "    turn = choose_first()\n",
    "    print(turn + ' will go first')\n",
    "    \n",
    "    print(\"Are your ready to play the game? Yes or No. : \")\n",
    "    player_game = input()\n",
    "    \n",
    "    if player_game[0].lower() == 'y':\n",
    "        game_on = True\n",
    "    else :\n",
    "        game_on = False\n",
    "    \n",
    "    while game_on :\n",
    "        if turn == \"Player 1\":\n",
    "            #player 1's turn\n",
    "            display_board(theboard)\n",
    "            position = player_choice(theboard)\n",
    "            place_marker(theboard, player1_marker, position)\n",
    "    \n",
    "            if win_check(theboard, player1_marker):\n",
    "                display_board(theboard)\n",
    "                print(\"Congratulations! You have won the game\")\n",
    "                game_on = False\n",
    "            else:\n",
    "                if full_board_check(theboard):\n",
    "                    display_board(theboard)\n",
    "                    print(\"The game is a draw!\")\n",
    "                    break\n",
    "                else :\n",
    "                    turn = \"Player 2\"\n",
    "        else :\n",
    "            #player 2's turn\n",
    "            display_board(theboard)\n",
    "            position = player_choice(theboard)\n",
    "            place_marker(theboard, player2_marker, position)\n",
    "            \n",
    "            if win_check(theboard, player2_marker):\n",
    "                display_board(theboard)\n",
    "                print(\"Congratulations! You have won the game\")\n",
    "                game_on = False\n",
    "            else:\n",
    "                if full_board_check(theboard):\n",
    "                    display_board(theboard)\n",
    "                    print(\"The game is a draw!\")\n",
    "                    break\n",
    "                else :\n",
    "                    turn = \"Player 1\"\n",
    "    if not replay():\n",
    "            break\n",
    "            \n",
    "            \n",
    "                \n",
    "        \n",
    "    "
   ]
  },
  {
   "cell_type": "code",
   "execution_count": null,
   "metadata": {},
   "outputs": [],
   "source": []
  },
  {
   "cell_type": "code",
   "execution_count": null,
   "metadata": {},
   "outputs": [],
   "source": []
  }
 ],
 "metadata": {
  "kernelspec": {
   "display_name": "Python 3",
   "language": "python",
   "name": "python3"
  },
  "language_info": {
   "codemirror_mode": {
    "name": "ipython",
    "version": 3
   },
   "file_extension": ".py",
   "mimetype": "text/x-python",
   "name": "python",
   "nbconvert_exporter": "python",
   "pygments_lexer": "ipython3",
   "version": "3.7.1"
  }
 },
 "nbformat": 4,
 "nbformat_minor": 2
}
